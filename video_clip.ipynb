{
 "cells": [
  {
   "cell_type": "markdown",
   "id": "e707643f-a50d-4da8-943f-8899c99759ff",
   "metadata": {},
   "source": [
    "## 视频根据自己设定的参数自动剪辑\n",
    "\n",
    "主要使用的是 `MoviePy` 库"
   ]
  },
  {
   "cell_type": "code",
   "execution_count": 7,
   "id": "705cca45-86ab-485f-a47b-95d56ed1ebec",
   "metadata": {},
   "outputs": [
    {
     "name": "stdout",
     "output_type": "stream",
     "text": [
      ".ipynb_checkpoints\n",
      "1.mp4\n",
      "video:1.mp4, source duraion:15.97, trimmed duration:15.570000000000002\n",
      "2.mp4\n",
      "video:2.mp4, source duraion:27.37, trimmed duration:26.970000000000002\n",
      "3.mp4\n",
      "video:3.mp4, source duraion:5.62, trimmed duration:5.22\n",
      "4.mp4\n",
      "video:4.mp4, source duraion:12.32, trimmed duration:11.920000000000002\n",
      "nickname.mov\n"
     ]
    },
    {
     "data": {
      "text/plain": [
       "[<moviepy.video.io.VideoFileClip.VideoFileClip at 0x19300a9a650>,\n",
       " <moviepy.video.io.VideoFileClip.VideoFileClip at 0x19300a9aad0>,\n",
       " <moviepy.video.io.VideoFileClip.VideoFileClip at 0x19300a9b010>,\n",
       " <moviepy.video.io.VideoFileClip.VideoFileClip at 0x19300a9b1f0>]"
      ]
     },
     "execution_count": 7,
     "metadata": {},
     "output_type": "execute_result"
    }
   ],
   "source": [
    "import moviepy.editor as mp\n",
    "import os\n",
    "\n",
    "# load nickname video\n",
    "nickname_video = mp.VideoFileClip(\"./video_demo/nickname.mov\")\n",
    "\n",
    "# 加载视频文件\n",
    "video_list = []\n",
    "for video_file in sorted(os.listdir(\"./video_demo\")):\n",
    "    print(video_file)\n",
    "    if \"mp4\" not in video_file:\n",
    "        continue\n",
    "    video = mp.VideoFileClip(\"./video_demo/{}\".format(video_file))\n",
    "    video_duration = video.duration\n",
    "    # 去掉视频开头和结尾 n second\n",
    "    trimmed_video = video.subclip(0.2, video_duration - 0.2)\n",
    "    print(\"video:{}, source duraion:{}, trimmed duration:{}\".format(video_file, video_duration, trimmed_video.duration))\n",
    "    video_list.append(trimmed_video)\n",
    "#video = mp.VideoFileClip(\"input_video.mp4\")\n",
    "video_list"
   ]
  },
  {
   "cell_type": "markdown",
   "id": "322b886c-f60c-4474-bab5-8a9d42cf1d89",
   "metadata": {},
   "source": [
    "## 对视频进行裁剪\n",
    "\n",
    "视频尺寸裁剪1:1，同时设置背景模糊填充"
   ]
  },
  {
   "cell_type": "code",
   "execution_count": null,
   "id": "c9bd1b89-7404-422b-8fbd-7d4b6ba0cea0",
   "metadata": {},
   "outputs": [],
   "source": [
    "from moviepy.video.fx.all import crop\n",
    "\n"
   ]
  },
  {
   "cell_type": "markdown",
   "id": "2dd181f1-a789-450c-bd6d-949324d68310",
   "metadata": {},
   "source": [
    "## 将视频拼接起来并增加叠化转场"
   ]
  },
  {
   "cell_type": "code",
   "execution_count": 20,
   "id": "44e4e462-d052-479e-9b7e-f9e74778dc95",
   "metadata": {},
   "outputs": [
    {
     "name": "stdout",
     "output_type": "stream",
     "text": [
      "Moviepy - Building video concat_video.mp4.\n",
      "MoviePy - Writing audio in concat_videoTEMP_MPY_wvf_snd.mp3\n"
     ]
    },
    {
     "name": "stderr",
     "output_type": "stream",
     "text": [
      "                                                                                                                       \r"
     ]
    },
    {
     "name": "stdout",
     "output_type": "stream",
     "text": [
      "MoviePy - Done.\n",
      "Moviepy - Writing video concat_video.mp4\n",
      "\n"
     ]
    },
    {
     "name": "stderr",
     "output_type": "stream",
     "text": [
      "                                                                                                                       \r"
     ]
    },
    {
     "name": "stdout",
     "output_type": "stream",
     "text": [
      "Moviepy - Done !\n",
      "Moviepy - video ready concat_video.mp4\n"
     ]
    }
   ],
   "source": [
    "from moviepy.editor import *\n",
    "# 添加叠化转场效果\n",
    "padding = 0.5 # padding option\n",
    "\n",
    "video_fx_list = [video_list[0]]\n",
    "# set padding to initial video\n",
    "\n",
    "idx = video_list[0].duration - padding\n",
    "for video in video_list[1:]:\n",
    "    video_fx_list.append(video.set_start(idx).crossfadein(padding))\n",
    "    idx += video.duration - padding\n",
    "\n",
    "final_video = CompositeVideoClip(video_fx_list)\n",
    "final_video.write_videofile('concat_video.mp4', fps=24)"
   ]
  },
  {
   "cell_type": "markdown",
   "id": "877a6547-c125-4648-bd93-063b4cab2283",
   "metadata": {},
   "source": [
    "## 增加画中画并且设置画中画的位置和透明度"
   ]
  },
  {
   "cell_type": "code",
   "execution_count": 18,
   "id": "cc5ae7a0-16de-4ce9-966b-1869855800cf",
   "metadata": {},
   "outputs": [
    {
     "name": "stdout",
     "output_type": "stream",
     "text": [
      "Moviepy - Building video output_video.mp4.\n",
      "MoviePy - Writing audio in output_videoTEMP_MPY_wvf_snd.mp3\n"
     ]
    },
    {
     "name": "stderr",
     "output_type": "stream",
     "text": [
      "                                                                                                                       \r"
     ]
    },
    {
     "name": "stdout",
     "output_type": "stream",
     "text": [
      "MoviePy - Done.\n",
      "Moviepy - Writing video output_video.mp4\n",
      "\n"
     ]
    },
    {
     "name": "stderr",
     "output_type": "stream",
     "text": [
      "                                                                                                                       \r"
     ]
    },
    {
     "name": "stdout",
     "output_type": "stream",
     "text": [
      "Moviepy - Done !\n",
      "Moviepy - video ready output_video.mp4\n"
     ]
    }
   ],
   "source": [
    "nickname_video = mp.VideoFileClip(\"./video_demo/nickname.mov\")\n",
    "\n",
    "# size and location\n",
    "# nickname_video = nickname_video.resize(height=200, width=100)\n",
    "nickname_video = nickname_video.set_position((\"left\", \"bottom\"))\n",
    "\n",
    "nickname_video = nickname_video.set_position(lambda t:('left', 250+t))\n",
    "\n",
    "# opacity\n",
    "nickname_video = nickname_video.set_opacity(0.3)\n",
    "# nickname_video = nickname_video.set_blendmode(\"scree\")\n",
    "\n",
    "duration = final_video.duration\n",
    "\n",
    "res_video = mp.CompositeVideoClip([final_video, nickname_video])\n",
    "res_video.write_videofile(\"output_video.mp4\")"
   ]
  },
  {
   "cell_type": "code",
   "execution_count": 5,
   "id": "1ea56a8d-1cd1-4e7b-8810-48197a56420a",
   "metadata": {},
   "outputs": [
    {
     "data": {
      "text/html": [
       "<img src=\"./framework.png\", width=500, height=200>\n"
      ],
      "text/plain": [
       "<IPython.core.display.HTML object>"
      ]
     },
     "metadata": {},
     "output_type": "display_data"
    }
   ],
   "source": [
    "%%html\n",
    "<img src=\"./framework.png\", width=500, height=200>"
   ]
  },
  {
   "cell_type": "code",
   "execution_count": null,
   "id": "957e82bf-36b9-4fc2-952a-54f9232f39fc",
   "metadata": {},
   "outputs": [],
   "source": []
  }
 ],
 "metadata": {
  "kernelspec": {
   "display_name": "Python 3 (ipykernel)",
   "language": "python",
   "name": "python3"
  },
  "language_info": {
   "codemirror_mode": {
    "name": "ipython",
    "version": 3
   },
   "file_extension": ".py",
   "mimetype": "text/x-python",
   "name": "python",
   "nbconvert_exporter": "python",
   "pygments_lexer": "ipython3",
   "version": "3.10.11"
  }
 },
 "nbformat": 4,
 "nbformat_minor": 5
}
